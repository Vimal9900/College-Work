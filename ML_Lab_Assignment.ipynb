{
  "cells": [
    {
      "cell_type": "markdown",
      "metadata": {
        "id": "view-in-github",
        "colab_type": "text"
      },
      "source": [
        "<a href=\"https://colab.research.google.com/github/Vimal9900/College-Work/blob/main/ML_Lab_Assignment.ipynb\" target=\"_parent\"><img src=\"https://colab.research.google.com/assets/colab-badge.svg\" alt=\"Open In Colab\"/></a>"
      ]
    },
    {
      "cell_type": "markdown",
      "metadata": {
        "id": "dQSy31GqXngU"
      },
      "source": [
        "#Objective : Predicting Auto MPG Using Linear Regression and Naive Bayes"
      ]
    },
    {
      "cell_type": "markdown",
      "metadata": {
        "id": "Z0z4cUscYhl8"
      },
      "source": [
        "### Import dataset"
      ]
    },
    {
      "cell_type": "code",
      "execution_count": null,
      "metadata": {
        "colab": {
          "base_uri": "https://localhost:8080/"
        },
        "id": "Hq0gLfiCYpa5",
        "outputId": "8f16fffd-6d92-4eb9-d65b-974d942fb9d1"
      },
      "outputs": [
        {
          "output_type": "stream",
          "name": "stdout",
          "text": [
            "Drive already mounted at /content/drive; to attempt to forcibly remount, call drive.mount(\"/content/drive\", force_remount=True).\n"
          ]
        }
      ],
      "source": [
        "from google.colab import drive\n",
        "drive.mount('/content/drive')"
      ]
    },
    {
      "cell_type": "code",
      "execution_count": null,
      "metadata": {
        "id": "lvLlHazJY87N"
      },
      "outputs": [],
      "source": [
        "import numpy as np\n",
        "import pandas as pd\n",
        "import matplotlib.pyplot as plt"
      ]
    },
    {
      "cell_type": "code",
      "execution_count": null,
      "metadata": {
        "id": "tSv9XwrKYqHi"
      },
      "outputs": [],
      "source": [
        "df=pd.read_csv('/content/drive/MyDrive/Colab Notebooks/Dataset/auto-mpg.csv')"
      ]
    },
    {
      "cell_type": "markdown",
      "metadata": {
        "id": "EKAbYeEkdUUf"
      },
      "source": [
        "### EDA"
      ]
    },
    {
      "cell_type": "code",
      "source": [
        "df=df.sample(frac=1)"
      ],
      "metadata": {
        "id": "9azziMKz3pPx"
      },
      "execution_count": null,
      "outputs": []
    },
    {
      "cell_type": "code",
      "execution_count": null,
      "metadata": {
        "colab": {
          "base_uri": "https://localhost:8080/",
          "height": 366
        },
        "id": "u14hr_LAdPiM",
        "outputId": "624dac64-6d51-45b7-d264-2a8a4e654454"
      },
      "outputs": [
        {
          "output_type": "execute_result",
          "data": {
            "text/plain": [
              "mpg             False\n",
              "cylinders       False\n",
              "displacement    False\n",
              "horsepower      False\n",
              "weight          False\n",
              "acceleration    False\n",
              "model year      False\n",
              "origin          False\n",
              "car name        False\n",
              "dtype: bool"
            ],
            "text/html": [
              "<div>\n",
              "<style scoped>\n",
              "    .dataframe tbody tr th:only-of-type {\n",
              "        vertical-align: middle;\n",
              "    }\n",
              "\n",
              "    .dataframe tbody tr th {\n",
              "        vertical-align: top;\n",
              "    }\n",
              "\n",
              "    .dataframe thead th {\n",
              "        text-align: right;\n",
              "    }\n",
              "</style>\n",
              "<table border=\"1\" class=\"dataframe\">\n",
              "  <thead>\n",
              "    <tr style=\"text-align: right;\">\n",
              "      <th></th>\n",
              "      <th>0</th>\n",
              "    </tr>\n",
              "  </thead>\n",
              "  <tbody>\n",
              "    <tr>\n",
              "      <th>mpg</th>\n",
              "      <td>False</td>\n",
              "    </tr>\n",
              "    <tr>\n",
              "      <th>cylinders</th>\n",
              "      <td>False</td>\n",
              "    </tr>\n",
              "    <tr>\n",
              "      <th>displacement</th>\n",
              "      <td>False</td>\n",
              "    </tr>\n",
              "    <tr>\n",
              "      <th>horsepower</th>\n",
              "      <td>False</td>\n",
              "    </tr>\n",
              "    <tr>\n",
              "      <th>weight</th>\n",
              "      <td>False</td>\n",
              "    </tr>\n",
              "    <tr>\n",
              "      <th>acceleration</th>\n",
              "      <td>False</td>\n",
              "    </tr>\n",
              "    <tr>\n",
              "      <th>model year</th>\n",
              "      <td>False</td>\n",
              "    </tr>\n",
              "    <tr>\n",
              "      <th>origin</th>\n",
              "      <td>False</td>\n",
              "    </tr>\n",
              "    <tr>\n",
              "      <th>car name</th>\n",
              "      <td>False</td>\n",
              "    </tr>\n",
              "  </tbody>\n",
              "</table>\n",
              "</div><br><label><b>dtype:</b> bool</label>"
            ]
          },
          "metadata": {},
          "execution_count": 180
        }
      ],
      "source": [
        "#Checking missing value\n",
        "df.isna().any()"
      ]
    },
    {
      "cell_type": "markdown",
      "metadata": {
        "id": "M4LmMzbUbLBx"
      },
      "source": [
        "There is no missing value in whole dataset.\n",
        "\n",
        "Extracting required features and respective Label"
      ]
    },
    {
      "cell_type": "code",
      "execution_count": null,
      "metadata": {
        "colab": {
          "base_uri": "https://localhost:8080/"
        },
        "id": "6si9spABbJeB",
        "outputId": "a003c40d-d4a4-4dbf-a353-29fa8735f8af"
      },
      "outputs": [
        {
          "output_type": "stream",
          "name": "stdout",
          "text": [
            "(398, 5) (398,)\n",
            "<class 'pandas.core.frame.DataFrame'>\n",
            "Index: 398 entries, 78 to 389\n",
            "Data columns (total 5 columns):\n",
            " #   Column        Non-Null Count  Dtype  \n",
            "---  ------        --------------  -----  \n",
            " 0   displacement  398 non-null    float64\n",
            " 1   horsepower    398 non-null    object \n",
            " 2   weight        398 non-null    int64  \n",
            " 3   acceleration  398 non-null    float64\n",
            " 4   origin        398 non-null    int64  \n",
            "dtypes: float64(2), int64(2), object(1)\n",
            "memory usage: 18.7+ KB\n",
            "None\n"
          ]
        }
      ],
      "source": [
        "x=df[['displacement','horsepower', 'weight', 'acceleration','origin']]\n",
        "y=df['mpg']\n",
        "y.column=['mpg']\n",
        "print(x.shape,y.shape)\n",
        "print(x.info())"
      ]
    },
    {
      "cell_type": "code",
      "execution_count": null,
      "metadata": {
        "colab": {
          "base_uri": "https://localhost:8080/"
        },
        "id": "F8UytWuiQe8I",
        "outputId": "5ddeaafa-d7d6-4c54-82b8-a4fe4a274fa8"
      },
      "outputs": [
        {
          "output_type": "stream",
          "name": "stdout",
          "text": [
            "<class 'pandas.core.frame.DataFrame'>\n",
            "Index: 398 entries, 78 to 389\n",
            "Data columns (total 5 columns):\n",
            " #   Column        Non-Null Count  Dtype  \n",
            "---  ------        --------------  -----  \n",
            " 0   displacement  398 non-null    float64\n",
            " 1   horsepower    398 non-null    object \n",
            " 2   weight        398 non-null    int64  \n",
            " 3   acceleration  398 non-null    float64\n",
            " 4   origin        398 non-null    int64  \n",
            "dtypes: float64(2), int64(2), object(1)\n",
            "memory usage: 18.7+ KB\n",
            "None\n"
          ]
        }
      ],
      "source": [
        "print(x.info())"
      ]
    },
    {
      "cell_type": "markdown",
      "metadata": {
        "id": "OOSxF0vsjzB1"
      },
      "source": [
        "Here horsepower is not a numeric number hence converting to numeric"
      ]
    },
    {
      "cell_type": "code",
      "execution_count": null,
      "metadata": {
        "colab": {
          "base_uri": "https://localhost:8080/"
        },
        "id": "mxGU-JvehBkS",
        "outputId": "44059380-6f93-47c3-dd41-3e76c0eb0975"
      },
      "outputs": [
        {
          "output_type": "stream",
          "name": "stdout",
          "text": [
            "<class 'pandas.core.frame.DataFrame'>\n",
            "Index: 398 entries, 78 to 389\n",
            "Data columns (total 5 columns):\n",
            " #   Column        Non-Null Count  Dtype  \n",
            "---  ------        --------------  -----  \n",
            " 0   displacement  398 non-null    float64\n",
            " 1   horsepower    398 non-null    float64\n",
            " 2   weight        398 non-null    int64  \n",
            " 3   acceleration  398 non-null    float64\n",
            " 4   origin        398 non-null    int64  \n",
            "dtypes: float64(3), int64(2)\n",
            "memory usage: 18.7 KB\n"
          ]
        },
        {
          "output_type": "stream",
          "name": "stderr",
          "text": [
            "<ipython-input-183-7e8ef27a7837>:2: SettingWithCopyWarning: \n",
            "A value is trying to be set on a copy of a slice from a DataFrame.\n",
            "Try using .loc[row_indexer,col_indexer] = value instead\n",
            "\n",
            "See the caveats in the documentation: https://pandas.pydata.org/pandas-docs/stable/user_guide/indexing.html#returning-a-view-versus-a-copy\n",
            "  x['horsepower'] = x['horsepower'].replace('?', np.nan)\n",
            "<ipython-input-183-7e8ef27a7837>:5: SettingWithCopyWarning: \n",
            "A value is trying to be set on a copy of a slice from a DataFrame.\n",
            "Try using .loc[row_indexer,col_indexer] = value instead\n",
            "\n",
            "See the caveats in the documentation: https://pandas.pydata.org/pandas-docs/stable/user_guide/indexing.html#returning-a-view-versus-a-copy\n",
            "  x['horsepower'] = pd.to_numeric(x['horsepower'])\n",
            "<ipython-input-183-7e8ef27a7837>:8: SettingWithCopyWarning: \n",
            "A value is trying to be set on a copy of a slice from a DataFrame\n",
            "\n",
            "See the caveats in the documentation: https://pandas.pydata.org/pandas-docs/stable/user_guide/indexing.html#returning-a-view-versus-a-copy\n",
            "  x['horsepower'].fillna(x['horsepower'].median(), inplace=True)\n"
          ]
        }
      ],
      "source": [
        "# Replace '?' with NaN (Not a Number)\n",
        "x['horsepower'] = x['horsepower'].replace('?', np.nan)\n",
        "\n",
        "# Convert the column to numeric, handling errors\n",
        "x['horsepower'] = pd.to_numeric(x['horsepower'])\n",
        "\n",
        "#imputed Null value with mean of feature horsepower\n",
        "x['horsepower'].fillna(x['horsepower'].median(), inplace=True)\n",
        "\n",
        "x.info()"
      ]
    },
    {
      "cell_type": "markdown",
      "metadata": {
        "id": "p-equ7PXfONH"
      },
      "source": [
        "Splitting the dataset for Training and Testing"
      ]
    },
    {
      "cell_type": "code",
      "execution_count": null,
      "metadata": {
        "colab": {
          "base_uri": "https://localhost:8080/"
        },
        "id": "e6Wil6EHSchx",
        "outputId": "0d6bf682-b265-480f-fbb5-742c1e642dee"
      },
      "outputs": [
        {
          "output_type": "stream",
          "name": "stdout",
          "text": [
            "(398, 5) (398,)\n",
            "(120, 4) (120,) (278, 4) (278,)\n"
          ]
        }
      ],
      "source": [
        "# Split percent\n",
        "\n",
        "splitter=int(.7*len(x))\n",
        "\n",
        "#splitting data set for training and testing\n",
        "x_=x[['displacement','horsepower', 'weight', 'acceleration']]\n",
        "y_=y.copy()\n",
        "x_train=x_[:splitter]\n",
        "y_train=y_[:splitter]\n",
        "x_test=x_[splitter:]\n",
        "y_test=y_[splitter:]\n",
        "\n",
        "print(x.shape,y.shape)\n",
        "print(x_test.shape,y_test.shape,x_train.shape,y_train.shape)"
      ]
    },
    {
      "cell_type": "code",
      "execution_count": null,
      "metadata": {
        "colab": {
          "base_uri": "https://localhost:8080/",
          "height": 699
        },
        "id": "Q0yL6whOD_zR",
        "outputId": "2a1140b4-14b5-4c0d-b3d6-e8270aa47da8"
      },
      "outputs": [
        {
          "output_type": "display_data",
          "data": {
            "text/plain": [
              "<Figure size 1000x800 with 4 Axes>"
            ],
            "image/png": "[encoded data removed]"
          },
          "metadata": {}
        }
      ],
      "source": [
        "x_train.hist(figsize=(10, 8))\n",
        "plt.show()\n"
      ]
    },
    {
      "cell_type": "markdown",
      "metadata": {
        "id": "SbMYb3c68nGv"
      },
      "source": [
        "## Linear Regression"
      ]
    },
    {
      "cell_type": "markdown",
      "metadata": {
        "id": "OUZxef-7jJjK"
      },
      "source": [
        "### Using Least square and Gradient descent method"
      ]
    },
    {
      "cell_type": "code",
      "source": [
        "class LinearRegression_scrach:\n",
        "    def __init__(self):\n",
        "        self.coefficients = None\n",
        "        self.num_iterations = 10000\n",
        "        self.learning_rate = 0.0001\n",
        "\n",
        "    def least_square(self, A, y):\n",
        "        # Added 1 as a last column\n",
        "        A = np.c_[A, np.ones((len(A), 1))]\n",
        "        # Converting to numpy array\n",
        "        A = np.array(A)\n",
        "        y = np.array(y)\n",
        "\n",
        "        # Compute A^T * A and A^T * y\n",
        "        AtA = np.dot(A.T, A)\n",
        "        Aty = np.dot(A.T, y)\n",
        "\n",
        "        # Solve for p = (AtA)^(-1) * Aty\n",
        "        self.coefficients = np.dot(np.linalg.inv(AtA), Aty)\n",
        "\n",
        "        return self.coefficients\n",
        "\n",
        "    def gradient_descent(self, X, y):\n",
        "        n_samples, n_features = X.shape\n",
        "\n",
        "        # Initialize weights and bias to zeros\n",
        "        self.weights = np.zeros(n_features)\n",
        "        self.bias = 0\n",
        "\n",
        "        # Gradient Descent\n",
        "        for _ in range(self.num_iterations):\n",
        "            # Compute the predictions\n",
        "            y_predicted = np.dot(X, self.weights) + self.bias\n",
        "\n",
        "            # Compute the gradients\n",
        "            dw = (1 / n_samples) * np.dot(X.T, (y_predicted - y))\n",
        "            db = (1 / n_samples) * np.sum(y_predicted - y)\n",
        "\n",
        "            # Update weights and bias\n",
        "            self.weights -= self.learning_rate * dw\n",
        "            self.bias -= self.learning_rate * db\n",
        "\n",
        "        # Store coefficients as weights and bias for consistency\n",
        "        self.coefficients = np.append(self.weights, self.bias)\n",
        "\n",
        "        return self.coefficients\n",
        "\n",
        "    def predict(self, x,coefficients):\n",
        "        x = np.c_[x, np.ones((len(x), 1))]\n",
        "        y_pred = np.dot(x, coefficients)\n",
        "        return y_pred\n",
        "\n",
        "    def mean_squared_error(self, y_true, y_pred):\n",
        "        return np.mean((y_true - y_pred) ** 2)\n",
        "\n",
        "    def r2_score(self, y_true, y_pred):\n",
        "        ss_res = np.sum((y_true - y_pred) ** 2)\n",
        "        ss_tot = np.sum((y_true - np.mean(y_true)) ** 2)\n",
        "        r2 = 1 - (ss_res / ss_tot)\n",
        "        return r2"
      ],
      "metadata": {
        "id": "c3oKtePe-E8L"
      },
      "execution_count": null,
      "outputs": []
    },
    {
      "cell_type": "markdown",
      "source": [
        "### standardizing the data"
      ],
      "metadata": {
        "id": "xLK0NzuYVZUh"
      }
    },
    {
      "cell_type": "code",
      "source": [
        "def standardize_data(X):\n",
        "    return (X - np.mean(X, axis=0)) / np.std(X, axis=0)\n",
        "\n",
        "standardized_x_train = standardize_data(x_train)\n",
        "standardized_x_test = standardize_data(x_test)"
      ],
      "metadata": {
        "id": "MaWMc-9nS7qY"
      },
      "execution_count": null,
      "outputs": []
    },
    {
      "cell_type": "markdown",
      "source": [
        "### Using Least sqaure"
      ],
      "metadata": {
        "id": "R1dKDHS1VkC1"
      }
    },
    {
      "cell_type": "code",
      "source": [
        "# Create an instance of the LinearRegression class\n",
        "model = LinearRegression_scrach()\n",
        "\n",
        "# Fit the model using least squares\n",
        "coefficients = model.least_square(standardized_x_train, y_train)\n",
        "print(\"Coefficients (Least Squares): \", coefficients)\n",
        "\n",
        "# # Predict using the fitted model\n",
        "y_pred = model.predict(standardized_x_test,coefficients)\n",
        "\n",
        "# # Calculate MSE\n",
        "mse = model.mean_squared_error(y_test, y_pred)\n",
        "print(\"Mean Squared Error using least square: \", mse)\n",
        "\n",
        "# Calculate R-squared\n",
        "r2 = model.r2_score(y_test, y_pred)\n",
        "print(\"R-squared using least square: \", r2)\n",
        "\n"
      ],
      "metadata": {
        "colab": {
          "base_uri": "https://localhost:8080/"
        },
        "id": "8U8KF8_0N60i",
        "outputId": "1d120bdc-935d-4ab1-cb31-1de45deb4b73"
      },
      "execution_count": null,
      "outputs": [
        {
          "output_type": "stream",
          "name": "stdout",
          "text": [
            "Coefficients (Least Squares):  [-0.48869969 -1.72238348 -4.6708206  -0.14086711 23.57697842]\n",
            "Mean Squared Error using least square:  18.474297233505414\n",
            "R-squared using least square:  0.6912980806531293\n"
          ]
        }
      ]
    },
    {
      "cell_type": "markdown",
      "source": [
        "### Using gradient descent"
      ],
      "metadata": {
        "id": "ZY1y9SXRVn4-"
      }
    },
    {
      "cell_type": "code",
      "source": [
        "# Fit the model using gradient descent\n",
        "model = LinearRegression_scrach()\n",
        "model.learning_rate = 0.01\n",
        "model.num_iterations = 100000\n",
        "gradient_descent_coefficients = model.gradient_descent(standardized_x_train, y_train)\n",
        "print(\"Coefficients (Gradient Descent): \", gradient_descent_coefficients)\n",
        "# Predict using the fitted model\n",
        "y_pred = model.predict(standardized_x_test,gradient_descent_coefficients )\n",
        "\n",
        "# Calculate MSE\n",
        "mse = model.mean_squared_error(y_test, y_pred)\n",
        "print(\"Mean Squared Error using gradient Descent: \", mse)\n",
        "\n",
        "# Calculate R-squared\n",
        "r2 = model.r2_score(y_test, y_pred)\n",
        "print(\"R-squared using gradient Descent: \", r2)"
      ],
      "metadata": {
        "colab": {
          "base_uri": "https://localhost:8080/"
        },
        "id": "ESM9Qp1zVTZo",
        "outputId": "70682aa5-72ae-4dad-d8db-dfb7b21ba09d"
      },
      "execution_count": null,
      "outputs": [
        {
          "output_type": "stream",
          "name": "stdout",
          "text": [
            "Coefficients (Gradient Descent):  [-0.48869969 -1.72238348 -4.6708206  -0.14086711 23.57697842]\n",
            "Mean Squared Error using gradient Descent:  18.474297233505297\n",
            "R-squared using gradient Descent:  0.6912980806531313\n"
          ]
        }
      ]
    },
    {
      "cell_type": "markdown",
      "metadata": {
        "id": "nCQmpQKVi3wB"
      },
      "source": [
        "## Naive Bayes Implementation"
      ]
    },
    {
      "cell_type": "markdown",
      "metadata": {
        "id": "cyl8-F-kQ1J-"
      },
      "source": [
        "### Categorizing fetures based on there range of values into 3 category"
      ]
    },
    {
      "cell_type": "code",
      "execution_count": null,
      "metadata": {
        "id": "g29fdZf6FSDJ",
        "colab": {
          "base_uri": "https://localhost:8080/"
        },
        "outputId": "64c92ed8-8439-443d-8aeb-2fb978d1792a"
      },
      "outputs": [
        {
          "output_type": "stream",
          "name": "stdout",
          "text": [
            "Column: displacement\n",
            "{'low': '<= 104.25', 'medium': '104.25 - 262.00', 'high': '>= 262.00'}\n",
            "\n",
            "\n",
            "Column: horsepower\n",
            "{'low': '<= 76.00', 'medium': '76.00 - 125.00', 'high': '>= 125.00'}\n",
            "\n",
            "\n",
            "Column: weight\n",
            "{'low': '<= 2223.75', 'medium': '2223.75 - 3608.00', 'high': '>= 3608.00'}\n",
            "\n",
            "\n",
            "Column: acceleration\n",
            "{'low': '<= 13.83', 'medium': '13.83 - 17.18', 'high': '>= 17.18'}\n",
            "\n",
            "\n",
            "Column: origin\n",
            "{'low': '<= 1.00', 'medium': '1.00 - 2.00', 'high': '>= 2.00'}\n",
            "\n",
            "\n",
            "Column: mpg\n",
            "{'low': '<= 17.50', 'medium': '17.50 - 29.00', 'high': '>= 29.00'}\n",
            "\n",
            "\n"
          ]
        }
      ],
      "source": [
        "# Analyze the data and categorize columns into low, medium, high\n",
        "def categorize_column(df, column_name):\n",
        "\n",
        "  values = df[column_name]\n",
        "\n",
        "  # Calculate quartiles\n",
        "  q1 = values.quantile(0.25)\n",
        "  q2 = values.quantile(0.5)  # Median\n",
        "  q3 = values.quantile(0.75)\n",
        "\n",
        "  categories = {}\n",
        "  categories['low'] = f\"<= {q1:.2f}\"\n",
        "  categories['medium'] = f\"{q1:.2f} - {q3:.2f}\"\n",
        "  categories['high'] = f\">= {q3:.2f}\"\n",
        "\n",
        "  return categories\n",
        "\n",
        "# Apply the function to each feature column\n",
        "for col in x.columns:\n",
        "  print(f\"Column: {col}\")\n",
        "  categories = categorize_column(x, col)\n",
        "  print(categories)\n",
        "  print(\"\\n\")\n",
        "\n",
        "for col in y.column:\n",
        "  print(f\"Column: {col}\")\n",
        "  categories = categorize_column(pd.DataFrame(y), col)\n",
        "  print(categories)\n",
        "  print(\"\\n\")"
      ]
    },
    {
      "cell_type": "markdown",
      "metadata": {
        "id": "DXmXcBcCEYYz"
      },
      "source": [
        "Column: displacement\n",
        "{'low': '<= 104.25', 'medium': '104.25 - 262.00', 'high': '>= 262.00'}\n",
        "\n",
        "\n",
        "Column: horsepower\n",
        "{'low': '<= 76.00', 'medium': '76.00 - 125.00', 'high': '>= 125.00'}\n",
        "\n",
        "\n",
        "Column: weight\n",
        "{'low': '<= 2223.75', 'medium': '2223.75 - 3608.00', 'high': '>= 3608.00'}\n",
        "\n",
        "\n",
        "Column: acceleration\n",
        "{'low': '<= 13.83', 'medium': '13.83 - 17.18', 'high': '>= 17.18'}"
      ]
    },
    {
      "cell_type": "code",
      "execution_count": null,
      "metadata": {
        "id": "nBnLmo7VOvIH",
        "colab": {
          "base_uri": "https://localhost:8080/"
        },
        "outputId": "3f564b7c-ed7b-44a4-a8c0-564028314eb5"
      },
      "outputs": [
        {
          "output_type": "stream",
          "name": "stderr",
          "text": [
            "<ipython-input-196-bd7ad74b12c8>:9: SettingWithCopyWarning: \n",
            "A value is trying to be set on a copy of a slice from a DataFrame.\n",
            "Try using .loc[row_indexer,col_indexer] = value instead\n",
            "\n",
            "See the caveats in the documentation: https://pandas.pydata.org/pandas-docs/stable/user_guide/indexing.html#returning-a-view-versus-a-copy\n",
            "  x_bayes['displacement'] = pd.cut(x=x['displacement'], bins=[0,100,262,x_bayes['displacement'].max()], labels=['small','medium','large']) # Create a new column for categorized displacement\n",
            "<ipython-input-196-bd7ad74b12c8>:10: SettingWithCopyWarning: \n",
            "A value is trying to be set on a copy of a slice from a DataFrame.\n",
            "Try using .loc[row_indexer,col_indexer] = value instead\n",
            "\n",
            "See the caveats in the documentation: https://pandas.pydata.org/pandas-docs/stable/user_guide/indexing.html#returning-a-view-versus-a-copy\n",
            "  x_bayes['horsepower'] = pd.cut(x=x['horsepower'], bins=[0,76,125,x_bayes['horsepower'].max()], labels=['low','medium','high']) # Create a new column for categorized horsepower\n",
            "<ipython-input-196-bd7ad74b12c8>:11: SettingWithCopyWarning: \n",
            "A value is trying to be set on a copy of a slice from a DataFrame.\n",
            "Try using .loc[row_indexer,col_indexer] = value instead\n",
            "\n",
            "See the caveats in the documentation: https://pandas.pydata.org/pandas-docs/stable/user_guide/indexing.html#returning-a-view-versus-a-copy\n",
            "  x_bayes['weight'] = pd.cut(x=x['weight'], bins=[0,2223,3608,x_bayes['weight'].max()], labels=['light','medium','heavy']) # Create a new column for categorized weight\n",
            "<ipython-input-196-bd7ad74b12c8>:12: SettingWithCopyWarning: \n",
            "A value is trying to be set on a copy of a slice from a DataFrame.\n",
            "Try using .loc[row_indexer,col_indexer] = value instead\n",
            "\n",
            "See the caveats in the documentation: https://pandas.pydata.org/pandas-docs/stable/user_guide/indexing.html#returning-a-view-versus-a-copy\n",
            "  x_bayes['origin'] = pd.cut(x=x['origin'], bins=[0,1,2,x_bayes['origin'].max()], labels=['USA','RUSSIA','INDIA']) # Create a new column for categorized origin\n"
          ]
        }
      ],
      "source": [
        "# Fetching required features and making a copy of the dataset\n",
        "x_bayes = x[['displacement','horsepower', 'weight', 'origin']]\n",
        "y_bayes = y.copy()\n",
        "\n",
        "#Label category\n",
        "y_bayes = pd.cut(x=y_bayes, bins=[0,20,30,y_bayes.max()], labels=['low','medium','high'])\n",
        "\n",
        "#Feature category\n",
        "x_bayes['displacement'] = pd.cut(x=x['displacement'], bins=[0,100,262,x_bayes['displacement'].max()], labels=['small','medium','large']) # Create a new column for categorized displacement\n",
        "x_bayes['horsepower'] = pd.cut(x=x['horsepower'], bins=[0,76,125,x_bayes['horsepower'].max()], labels=['low','medium','high']) # Create a new column for categorized horsepower\n",
        "x_bayes['weight'] = pd.cut(x=x['weight'], bins=[0,2223,3608,x_bayes['weight'].max()], labels=['light','medium','heavy']) # Create a new column for categorized weight\n",
        "x_bayes['origin'] = pd.cut(x=x['origin'], bins=[0,1,2,x_bayes['origin'].max()], labels=['USA','RUSSIA','INDIA']) # Create a new column for categorized origin"
      ]
    },
    {
      "cell_type": "markdown",
      "source": [
        "### splitting data set for training and testing"
      ],
      "metadata": {
        "id": "72oqebo3pfLr"
      }
    },
    {
      "cell_type": "code",
      "execution_count": null,
      "metadata": {
        "id": "OujlVVToA14f",
        "colab": {
          "base_uri": "https://localhost:8080/"
        },
        "outputId": "2864f969-06f3-4666-818b-59529fe4b781"
      },
      "outputs": [
        {
          "output_type": "stream",
          "name": "stdout",
          "text": [
            "(278, 4) (278,)\n",
            "(120, 4) (120,)\n"
          ]
        }
      ],
      "source": [
        "# Split percent\n",
        "splitter=int(.7*len(x))\n",
        "\n",
        "x_train_bayes=x_bayes[:splitter]\n",
        "y_train_bayes=y_bayes[:splitter]\n",
        "x_test_bayes=x_bayes[splitter:]\n",
        "y_test_bayes=y_bayes[splitter:]\n",
        "\n",
        "print(x_train_bayes.shape,y_train_bayes.shape)\n",
        "print(x_test_bayes.shape,y_test_bayes.shape)"
      ]
    },
    {
      "cell_type": "markdown",
      "source": [
        "### NB Implementation"
      ],
      "metadata": {
        "id": "R1PP7tpZpi4S"
      }
    },
    {
      "cell_type": "code",
      "source": [
        "class NaiveBayesClassifier_scrach:\n",
        "    def __init__(self):\n",
        "        self.class_probs = {}\n",
        "        self.feature_probs = {}\n",
        "        self.feature_classes = {}\n",
        "\n",
        "    def calculate_prior(self,y,label='mpg'):\n",
        "        classes = y[label].unique()\n",
        "        prior = {}\n",
        "        for cls in classes:\n",
        "            prior[cls] = len(y[y[label]==cls]) / len(y)\n",
        "        return prior\n",
        "\n",
        "    def fit(self, X, y):\n",
        "        # Calculate prior probabilities for each class\n",
        "        self.classes = y.unique()\n",
        "        self.class_probs = self.calculate_prior(y.to_frame(), 'mpg')\n",
        "\n",
        "        # Initialize dictionaries to hold feature probabilities for each class\n",
        "        self.feature_probs = {cls: {col: {} for col in X.columns} for cls in self.classes}\n",
        "        self.feature_classes = {col: X[col].unique() for col in X.columns}\n",
        "\n",
        "        # Calculate probabilities for each feature given each class\n",
        "        for cls in self.classes:\n",
        "            X_cls = X[y == cls]  # Filter rows where y == cls\n",
        "            for col in X.columns:\n",
        "                col_values = self.feature_classes[col]\n",
        "                feature_counts = X_cls[col].value_counts()\n",
        "                total = len(X_cls)  # Total count of examples for this class\n",
        "\n",
        "                # Calculate conditional probabilities\n",
        "                self.feature_probs[cls][col] = {val: feature_counts.get(val, 0) / total for val in col_values}\n",
        "\n",
        "    def predict(self, X):\n",
        "        predictions = []\n",
        "        for _, row in X.iterrows():\n",
        "            probs = {}\n",
        "            for cls in self.classes:\n",
        "                prob = self.class_probs[cls]\n",
        "                for col in X.columns:\n",
        "                    prob *= self.feature_probs[cls][col].get(row[col], 0)\n",
        "                probs[cls] = prob\n",
        "\n",
        "            # Choose the class with the highest probability\n",
        "            predictions.append(max(probs, key=probs.get))\n",
        "\n",
        "        return np.array(predictions)\n",
        "\n",
        "    def accuracy(self,y_true,y_pred):\n",
        "        print(\"Naive Bayes Accuracy: \",np.sum(y_true==y_pred)/len(y_true))\n",
        "        # return np.sum(y_true==y_pred)/len(y_true)\n"
      ],
      "metadata": {
        "id": "l43ct_lJUrI_"
      },
      "execution_count": null,
      "outputs": []
    },
    {
      "cell_type": "code",
      "source": [
        "NB =NaiveBayesClassifier_scrach()\n",
        "NB.fit(x_train_bayes,y_train_bayes)"
      ],
      "metadata": {
        "id": "zdwvoFo8OAZK"
      },
      "execution_count": null,
      "outputs": []
    },
    {
      "cell_type": "code",
      "source": [
        "y_train_NB_pred = NB.predict(x_train_bayes)\n",
        "NB.accuracy(y_train_bayes,y_train_NB_pred)"
      ],
      "metadata": {
        "colab": {
          "base_uri": "https://localhost:8080/"
        },
        "id": "f23XwDmvPZzh",
        "outputId": "d325a971-b1ef-4666-e854-4729ba30e1d5"
      },
      "execution_count": null,
      "outputs": [
        {
          "output_type": "stream",
          "name": "stdout",
          "text": [
            "Naive Bayes Accuracy:  0.7302158273381295\n"
          ]
        }
      ]
    },
    {
      "cell_type": "code",
      "source": [
        "y_test_NB_pred = NB.predict(x_test_bayes)"
      ],
      "metadata": {
        "id": "R1OUUuX-OTqm"
      },
      "execution_count": null,
      "outputs": []
    },
    {
      "cell_type": "code",
      "source": [
        "NB.accuracy(y_test_bayes,y_test_NB_pred)"
      ],
      "metadata": {
        "colab": {
          "base_uri": "https://localhost:8080/"
        },
        "id": "UPyufipPPLwq",
        "outputId": "dcca4cfb-54ca-4190-e858-c034da926775"
      },
      "execution_count": null,
      "outputs": [
        {
          "output_type": "stream",
          "name": "stdout",
          "text": [
            "Naive Bayes Accuracy:  0.775\n"
          ]
        }
      ]
    },
    {
      "cell_type": "markdown",
      "source": [],
      "metadata": {
        "id": "QrQ_W-KMQBfw"
      }
    },
    {
      "cell_type": "markdown",
      "source": [
        "## Hybrid Model - Combining Naive Bayes and Linear Regression"
      ],
      "metadata": {
        "id": "htY6v75wMX56"
      }
    },
    {
      "cell_type": "markdown",
      "source": [
        "### One hot encoded the output of the NB Classifier"
      ],
      "metadata": {
        "id": "CTeAsT3-l1DF"
      }
    },
    {
      "cell_type": "code",
      "source": [
        "def transform(X):\n",
        "    categories=np.unique(X)\n",
        "    category_to_index = {category: idx for idx, category in enumerate(categories)}\n",
        "    one_hot_encoded = np.zeros((len(X), len(categories)))\n",
        "    for i, value in enumerate(X):\n",
        "        if value in category_to_index:\n",
        "            one_hot_encoded[i, category_to_index[value]] = 1\n",
        "    return one_hot_encoded"
      ],
      "metadata": {
        "id": "bblOiuMuhoOO"
      },
      "execution_count": null,
      "outputs": []
    },
    {
      "cell_type": "markdown",
      "source": [
        "### Combined the NB output with numerical features"
      ],
      "metadata": {
        "id": "lQ2cbadkmJnn"
      }
    },
    {
      "cell_type": "code",
      "source": [
        "def Combing_Lr_feature_NB_prediction(y_train_NB_pred,y_test_NB_pred,x_train,x_test):\n",
        "  train_one_hot_encode = transform(y_train_NB_pred)\n",
        "  test_one_hot_encode = transform(y_test_NB_pred)\n",
        "  x_train = standardize_data(x_train)\n",
        "  x_test = standardize_data(x_test)\n",
        "  x_train = pd.DataFrame(np.c_[x_train, train_one_hot_encode])\n",
        "  x_test = pd.DataFrame(np.c_[x_test, test_one_hot_encode])\n",
        "  return x_train,x_test"
      ],
      "metadata": {
        "id": "kJEKLxFYcZfZ"
      },
      "execution_count": null,
      "outputs": []
    },
    {
      "cell_type": "code",
      "source": [
        "class HybridModel:\n",
        "    def __init__(self):\n",
        "        #Intitalize the object of linear regression\n",
        "        self.lr_model = LinearRegression_scrach()\n",
        "\n",
        "    def fit(self, x_train, y_train):\n",
        "        # Fit Linear Regression\n",
        "        # self.lr_model.least_square(x_train, y_train)\n",
        "        self.lr_model.learning_rate = 0.1\n",
        "        self.lr_model.num_iterations = 1000000\n",
        "        self.lr_model.gradient_descent(x_train, y_train)\n",
        "\n",
        "    def predict(self, x_test):\n",
        "        # Predict using Linear Regression\n",
        "\n",
        "        y_pred = self.lr_model.predict(x_test, self.lr_model.coefficients)\n",
        "        return y_pred\n",
        "\n",
        "    def evaluate(self, y_true, y_pred):\n",
        "        # Calculate MSE\n",
        "        mse = self.lr_model.mean_squared_error(y_true, y_pred)\n",
        "        print(\"Mean Squared Error: \", mse)\n",
        "\n",
        "        # Calculate R-squared\n",
        "        r2 = self.lr_model.r2_score(y_true, y_pred)\n",
        "        print(\"R-squared: \", r2)\n"
      ],
      "metadata": {
        "id": "R9YR0-75eOim"
      },
      "execution_count": null,
      "outputs": []
    },
    {
      "cell_type": "code",
      "source": [
        "# Create an instance of the HybridModel class\n",
        "hybrid_model = HybridModel()\n",
        "\n",
        "# Fit the model\n",
        "x_train_combine,x_test_combine = Combing_Lr_feature_NB_prediction(y_train_NB_pred,y_test_NB_pred,x_train,x_test)\n",
        "\n",
        "hybrid_model.fit( x_train_combine, y_train)\n",
        "\n",
        "\n",
        "\n",
        "# Predict using the fitted model\n",
        "y_pred = hybrid_model.predict(x_test_combine)\n",
        "# Evaluate the model on testing data\n",
        "hybrid_model.evaluate(y_test, y_pred)"
      ],
      "metadata": {
        "id": "mSKY43P6q3_M",
        "colab": {
          "base_uri": "https://localhost:8080/"
        },
        "outputId": "42fcffa9-2006-44f7-f43b-f35c920312e4"
      },
      "execution_count": null,
      "outputs": [
        {
          "output_type": "stream",
          "name": "stdout",
          "text": [
            "Mean Squared Error:  14.72381420241375\n",
            "R-squared:  0.7332124675123681\n"
          ]
        }
      ]
    },
    {
      "cell_type": "code",
      "source": [],
      "metadata": {
        "id": "QrCSOkIkq0MZ"
      },
      "execution_count": null,
      "outputs": []
    }
  ],
  "metadata": {
    "colab": {
      "provenance": [],
      "collapsed_sections": [
        "dQSy31GqXngU",
        "Z0z4cUscYhl8",
        "EKAbYeEkdUUf",
        "OUZxef-7jJjK",
        "nCQmpQKVi3wB",
        "htY6v75wMX56"
      ],
      "authorship_tag": "ABX9TyPrYEkiWvwfMLw44Ywo9yLc",
      "include_colab_link": true
    },
    "kernelspec": {
      "display_name": "Python 3",
      "name": "python3"
    },
    "language_info": {
      "name": "python"
    }
  },
  "nbformat": 4,
  "nbformat_minor": 0
}