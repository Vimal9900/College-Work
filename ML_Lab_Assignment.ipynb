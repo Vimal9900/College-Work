{
  "cells": [
    {
      "cell_type": "markdown",
      "metadata": {
        "id": "view-in-github",
        "colab_type": "text"
      },
      "source": [
        "<a href=\"https://colab.research.google.com/github/Vimal9900/College-Work/blob/main/ML_Lab_Assignment.ipynb\" target=\"_parent\"><img src=\"https://colab.research.google.com/assets/colab-badge.svg\" alt=\"Open In Colab\"/></a>"
      ]
    },
    {
      "cell_type": "markdown",
      "metadata": {
        "id": "dQSy31GqXngU"
      },
      "source": [
        "#Objective : Predicting Auto MPG Using Linear Regression and Naive Bayes"
      ]
    },
    {
      "cell_type": "markdown",
      "metadata": {
        "id": "Z0z4cUscYhl8"
      },
      "source": [
        "### Import dataset"
      ]
    },
    {
      "cell_type": "code",
      "execution_count": null,
      "metadata": {
        "colab": {
          "base_uri": "https://localhost:8080/"
        },
        "id": "Hq0gLfiCYpa5",
        "outputId": "78d81f2b-9e30-4080-d3b9-f393466add1f"
      },
      "outputs": [
        {
          "output_type": "stream",
          "name": "stdout",
          "text": [
            "Drive already mounted at /content/drive; to attempt to forcibly remount, call drive.mount(\"/content/drive\", force_remount=True).\n"
          ]
        }
      ],
      "source": [
        "from google.colab import drive\n",
        "drive.mount('/content/drive')"
      ]
    },
    {
      "cell_type": "code",
      "execution_count": null,
      "metadata": {
        "id": "lvLlHazJY87N"
      },
      "outputs": [],
      "source": [
        "import numpy as np\n",
        "import pandas as pd\n",
        "import matplotlib.pyplot as plt"
      ]
    },
    {
      "cell_type": "code",
      "execution_count": null,
      "metadata": {
        "id": "tSv9XwrKYqHi"
      },
      "outputs": [],
      "source": [
        "df=pd.read_csv('/content/drive/MyDrive/Colab Notebooks/Dataset/auto-mpg.csv')"
      ]
    },
    {
      "cell_type": "markdown",
      "metadata": {
        "id": "EKAbYeEkdUUf"
      },
      "source": [
        "### EDA"
      ]
    },
    {
      "cell_type": "code",
      "source": [
        "df=df.sample(frac=1)"
      ],
      "metadata": {
        "id": "9azziMKz3pPx"
      },
      "execution_count": null,
      "outputs": []
    },
    {
      "cell_type": "code",
      "execution_count": null,
      "metadata": {
        "colab": {
          "base_uri": "https://localhost:8080/",
          "height": 366
        },
        "id": "u14hr_LAdPiM",
        "outputId": "cbfdaa74-90e5-4b4a-fd67-310dba4c5a83"
      },
      "outputs": [
        {
          "output_type": "execute_result",
          "data": {
            "text/plain": [
              "mpg             False\n",
              "cylinders       False\n",
              "displacement    False\n",
              "horsepower      False\n",
              "weight          False\n",
              "acceleration    False\n",
              "model year      False\n",
              "origin          False\n",
              "car name        False\n",
              "dtype: bool"
            ],
            "text/html": [
              "<div>\n",
              "<style scoped>\n",
              "    .dataframe tbody tr th:only-of-type {\n",
              "        vertical-align: middle;\n",
              "    }\n",
              "\n",
              "    .dataframe tbody tr th {\n",
              "        vertical-align: top;\n",
              "    }\n",
              "\n",
              "    .dataframe thead th {\n",
              "        text-align: right;\n",
              "    }\n",
              "</style>\n",
              "<table border=\"1\" class=\"dataframe\">\n",
              "  <thead>\n",
              "    <tr style=\"text-align: right;\">\n",
              "      <th></th>\n",
              "      <th>0</th>\n",
              "    </tr>\n",
              "  </thead>\n",
              "  <tbody>\n",
              "    <tr>\n",
              "      <th>mpg</th>\n",
              "      <td>False</td>\n",
              "    </tr>\n",
              "    <tr>\n",
              "      <th>cylinders</th>\n",
              "      <td>False</td>\n",
              "    </tr>\n",
              "    <tr>\n",
              "      <th>displacement</th>\n",
              "      <td>False</td>\n",
              "    </tr>\n",
              "    <tr>\n",
              "      <th>horsepower</th>\n",
              "      <td>False</td>\n",
              "    </tr>\n",
              "    <tr>\n",
              "      <th>weight</th>\n",
              "      <td>False</td>\n",
              "    </tr>\n",
              "    <tr>\n",
              "      <th>acceleration</th>\n",
              "      <td>False</td>\n",
              "    </tr>\n",
              "    <tr>\n",
              "      <th>model year</th>\n",
              "      <td>False</td>\n",
              "    </tr>\n",
              "    <tr>\n",
              "      <th>origin</th>\n",
              "      <td>False</td>\n",
              "    </tr>\n",
              "    <tr>\n",
              "      <th>car name</th>\n",
              "      <td>False</td>\n",
              "    </tr>\n",
              "  </tbody>\n",
              "</table>\n",
              "</div><br><label><b>dtype:</b> bool</label>"
            ]
          },
          "metadata": {},
          "execution_count": 268
        }
      ],
      "source": [
        "#Checking missing value\n",
        "df.isna().any()"
      ]
    },
    {
      "cell_type": "markdown",
      "metadata": {
        "id": "M4LmMzbUbLBx"
      },
      "source": [
        "There is no missing value in whole dataset.\n",
        "\n",
        "Extracting required features and respective Label"
      ]
    },
    {
      "cell_type": "code",
      "execution_count": null,
      "metadata": {
        "colab": {
          "base_uri": "https://localhost:8080/"
        },
        "id": "6si9spABbJeB",
        "outputId": "3369ae7e-e233-4ab9-9232-a68db4ecc421"
      },
      "outputs": [
        {
          "output_type": "stream",
          "name": "stdout",
          "text": [
            "(398, 5) (398,)\n",
            "<class 'pandas.core.frame.DataFrame'>\n",
            "Index: 398 entries, 189 to 191\n",
            "Data columns (total 5 columns):\n",
            " #   Column        Non-Null Count  Dtype  \n",
            "---  ------        --------------  -----  \n",
            " 0   displacement  398 non-null    float64\n",
            " 1   horsepower    398 non-null    object \n",
            " 2   weight        398 non-null    int64  \n",
            " 3   acceleration  398 non-null    float64\n",
            " 4   origin        398 non-null    int64  \n",
            "dtypes: float64(2), int64(2), object(1)\n",
            "memory usage: 18.7+ KB\n",
            "None\n"
          ]
        }
      ],
      "source": [
        "x=df[['displacement','horsepower', 'weight', 'acceleration','origin']]\n",
        "y=df['mpg']\n",
        "y.column=['mpg']\n",
        "print(x.shape,y.shape)\n",
        "print(x.info())"
      ]
    },
    {
      "cell_type": "code",
      "execution_count": null,
      "metadata": {
        "colab": {
          "base_uri": "https://localhost:8080/"
        },
        "id": "F8UytWuiQe8I",
        "outputId": "698cc933-2add-42d1-f330-48bf541700d1"
      },
      "outputs": [
        {
          "output_type": "stream",
          "name": "stdout",
          "text": [
            "<class 'pandas.core.frame.DataFrame'>\n",
            "Index: 398 entries, 189 to 191\n",
            "Data columns (total 5 columns):\n",
            " #   Column        Non-Null Count  Dtype  \n",
            "---  ------        --------------  -----  \n",
            " 0   displacement  398 non-null    float64\n",
            " 1   horsepower    398 non-null    object \n",
            " 2   weight        398 non-null    int64  \n",
            " 3   acceleration  398 non-null    float64\n",
            " 4   origin        398 non-null    int64  \n",
            "dtypes: float64(2), int64(2), object(1)\n",
            "memory usage: 18.7+ KB\n",
            "None\n"
          ]
        }
      ],
      "source": [
        "print(x.info())"
      ]
    },
    {
      "cell_type": "markdown",
      "metadata": {
        "id": "OOSxF0vsjzB1"
      },
      "source": [
        "Here horsepower is not a numeric number hence converting to numeric"
      ]
    },
    {
      "cell_type": "code",
      "execution_count": null,
      "metadata": {
        "colab": {
          "base_uri": "https://localhost:8080/"
        },
        "id": "mxGU-JvehBkS",
        "outputId": "0ba3565d-ab1e-42dd-dfbf-7a8494326ed6"
      },
      "outputs": [
        {
          "output_type": "stream",
          "name": "stdout",
          "text": [
            "<class 'pandas.core.frame.DataFrame'>\n",
            "Index: 398 entries, 189 to 191\n",
            "Data columns (total 5 columns):\n",
            " #   Column        Non-Null Count  Dtype  \n",
            "---  ------        --------------  -----  \n",
            " 0   displacement  398 non-null    float64\n",
            " 1   horsepower    398 non-null    float64\n",
            " 2   weight        398 non-null    int64  \n",
            " 3   acceleration  398 non-null    float64\n",
            " 4   origin        398 non-null    int64  \n",
            "dtypes: float64(3), int64(2)\n",
            "memory usage: 18.7 KB\n"
          ]
        },
        {
          "output_type": "stream",
          "name": "stderr",
          "text": [
            "<ipython-input-271-943e503c4f06>:2: SettingWithCopyWarning: \n",
            "A value is trying to be set on a copy of a slice from a DataFrame.\n",
            "Try using .loc[row_indexer,col_indexer] = value instead\n",
            "\n",
            "See the caveats in the documentation: https://pandas.pydata.org/pandas-docs/stable/user_guide/indexing.html#returning-a-view-versus-a-copy\n",
            "  x['horsepower'] = x['horsepower'].replace('?', np.nan)\n",
            "<ipython-input-271-943e503c4f06>:5: SettingWithCopyWarning: \n",
            "A value is trying to be set on a copy of a slice from a DataFrame.\n",
            "Try using .loc[row_indexer,col_indexer] = value instead\n",
            "\n",
            "See the caveats in the documentation: https://pandas.pydata.org/pandas-docs/stable/user_guide/indexing.html#returning-a-view-versus-a-copy\n",
            "  x['horsepower'] = pd.to_numeric(x['horsepower'])\n",
            "<ipython-input-271-943e503c4f06>:8: SettingWithCopyWarning: \n",
            "A value is trying to be set on a copy of a slice from a DataFrame\n",
            "\n",
            "See the caveats in the documentation: https://pandas.pydata.org/pandas-docs/stable/user_guide/indexing.html#returning-a-view-versus-a-copy\n",
            "  x['horsepower'].fillna(x['horsepower'].mean(), inplace=True)\n"
          ]
        }
      ],
      "source": [
        "# Replace '?' with NaN (Not a Number)\n",
        "x['horsepower'] = x['horsepower'].replace('?', np.nan)\n",
        "\n",
        "# Convert the column to numeric, handling errors\n",
        "x['horsepower'] = pd.to_numeric(x['horsepower'])\n",
        "\n",
        "#imputed Null value with mean of feature horsepower\n",
        "x['horsepower'].fillna(x['horsepower'].mean(), inplace=True)\n",
        "\n",
        "x.info()"
      ]
    },
    {
      "cell_type": "markdown",
      "metadata": {
        "id": "p-equ7PXfONH"
      },
      "source": [
        "Splitting the dataset for Training and Testing"
      ]
    },
    {
      "cell_type": "code",
      "execution_count": null,
      "metadata": {
        "colab": {
          "base_uri": "https://localhost:8080/"
        },
        "id": "e6Wil6EHSchx",
        "outputId": "28ffdcac-980b-47c0-c565-c326dd7b0538"
      },
      "outputs": [
        {
          "output_type": "stream",
          "name": "stdout",
          "text": [
            "(398, 5) (398,)\n",
            "(120, 4) (120,) (278, 4) (278,)\n"
          ]
        }
      ],
      "source": [
        "# Split percent\n",
        "\n",
        "splitter=int(.7*len(x))\n",
        "\n",
        "#splitting data set for training and testing\n",
        "x_=x[['displacement','horsepower', 'weight', 'acceleration']]\n",
        "y_=y.copy()\n",
        "x_train=x_[:splitter]\n",
        "y_train=y_[:splitter]\n",
        "x_test=x_[splitter:]\n",
        "y_test=y_[splitter:]\n",
        "\n",
        "print(x.shape,y.shape)\n",
        "print(x_test.shape,y_test.shape,x_train.shape,y_train.shape)"
      ]
    },
    {
      "cell_type": "code",
      "execution_count": null,
      "metadata": {
        "colab": {
          "base_uri": "https://localhost:8080/",
          "height": 699
        },
        "id": "Q0yL6whOD_zR",
        "outputId": "99be5578-e4d0-4da6-8302-5b7db65af7ab"
      },
      "outputs": [
        {
          "output_type": "display_data",
          "data": {
            "text/plain": [
              "<Figure size 1000x800 with 4 Axes>"
            ],
            "image/png": "[encoded data removed]"
          },
          "metadata": {}
        }
      ],
      "source": [
        "x_train.hist(figsize=(10, 8))\n",
        "plt.show()\n"
      ]
    },
    {
      "cell_type": "markdown",
      "metadata": {
        "id": "SbMYb3c68nGv"
      },
      "source": [
        "## Linear Regression"
      ]
    },
    {
      "cell_type": "markdown",
      "metadata": {
        "id": "OUZxef-7jJjK"
      },
      "source": [
        "### Using Least square method"
      ]
    },
    {
      "cell_type": "code",
      "source": [
        "class LinearRegression:\n",
        "    def __init__(self):\n",
        "        self.coefficients = None\n",
        "\n",
        "    def least_square(self, A, y):\n",
        "        # Added 1 as a last column\n",
        "        A = np.c_[A, np.ones((len(A), 1))]\n",
        "        # Converting to numpy array\n",
        "        A = np.array(A)\n",
        "        y = np.array(y)\n",
        "\n",
        "        # Compute A^T * A and A^T * y\n",
        "        AtA = np.dot(A.T, A)\n",
        "        Aty = np.dot(A.T, y)\n",
        "\n",
        "        # Solve for p = (AtA)^(-1) * Aty\n",
        "        self.coefficients = np.dot(np.linalg.inv(AtA), Aty)\n",
        "\n",
        "        return self.coefficients\n",
        "\n",
        "    def predict(self, x,coefficients):\n",
        "        x = np.c_[x, np.ones((len(x), 1))]\n",
        "        y_pred = np.dot(x, coefficients)\n",
        "        return y_pred\n",
        "\n",
        "    def mean_squared_error(self, y_true, y_pred):\n",
        "        return np.mean((y_true - y_pred) ** 2)\n",
        "\n",
        "    def r2_score(self, y_true, y_pred):\n",
        "        ss_res = np.sum((y_true - y_pred) ** 2)\n",
        "        ss_tot = np.sum((y_true - np.mean(y_true)) ** 2)\n",
        "        r2 = 1 - (ss_res / ss_tot)\n",
        "        return r2\n",
        "\n",
        "    def gradient_descent(self, x, y, learning_rate=0.00001, num_iterations=1):\n",
        "        x = np.c_[x, np.ones((len(x), 1))]\n",
        "        # Initialize the coefficients\n",
        "        self.coefficients = np.zeros(x.shape[1])\n",
        "\n",
        "        # Perform gradient descent\n",
        "        for _ in range(num_iterations):\n",
        "            y_pred = np.dot(x, self.coefficients)\n",
        "            error = y_pred - y\n",
        "            gradient = np.dot(x.T, error) / len(x)\n",
        "            self.coefficients -= learning_rate * gradient\n",
        "\n",
        "        return self.coefficients\n",
        "\n",
        "# Create an instance of the LinearRegression class\n",
        "model = LinearRegression()\n",
        "\n",
        "# Fit the model using least squares\n",
        "coefficients = model.least_square(x_train, y_train)\n",
        "print(\"Coefficients (Least Squares): \", coefficients)\n",
        "\n",
        "# Predict using the fitted model\n",
        "y_pred = model.predict(x_test,coefficients)\n",
        "\n",
        "# Calculate MSE\n",
        "mse = model.mean_squared_error(y_test, y_pred)\n",
        "print(\"Mean Squared Error: \", mse)\n",
        "\n",
        "# Calculate R-squared\n",
        "r2 = model.r2_score(y_test, y_pred)\n",
        "print(\"R-squared: \", r2)\n",
        "\n",
        "# Fit the model using gradient descent\n",
        "gradient_descent_coefficients = model.gradient_descent(x_train, y_train)\n",
        "print(\"Coefficients (Gradient Descent): \", gradient_descent_coefficients)\n",
        "# Predict using the fitted model\n",
        "y_pred = model.predict(x_test,gradient_descent_coefficients )\n",
        "\n",
        "# Calculate MSE\n",
        "mse = model.mean_squared_error(y_test, y_pred)\n",
        "print(\"Mean Squared Error: \", mse)\n",
        "\n",
        "# Calculate R-squared\n",
        "r2 = model.r2_score(y_test, y_pred)\n",
        "print(\"R-squared: \", r2)\n"
      ],
      "metadata": {
        "id": "c3oKtePe-E8L",
        "colab": {
          "base_uri": "https://localhost:8080/"
        },
        "outputId": "889f0cd2-f975-43db-d752-59f1e346b248"
      },
      "execution_count": null,
      "outputs": [
        {
          "output_type": "stream",
          "name": "stdout",
          "text": [
            "Coefficients (Least Squares):  [-1.49451038e-02 -3.90349156e-02 -4.82879250e-03 -1.00562314e-01\n",
            "  4.63607402e+01]\n",
            "Mean Squared Error:  18.657430964388606\n",
            "R-squared:  0.6628640169787875\n",
            "Coefficients (Gradient Descent):  [3.81484245e-02 2.21804469e-02 6.41616453e-01 3.83923417e-03\n",
            " 2.40197842e-04]\n",
            "Mean Squared Error:  4292090.79740142\n",
            "R-squared:  -77556.2077935139\n"
          ]
        }
      ]
    },
    {
      "cell_type": "markdown",
      "metadata": {
        "id": "nCQmpQKVi3wB"
      },
      "source": [
        "## Naive Bayes Implementation"
      ]
    },
    {
      "cell_type": "markdown",
      "metadata": {
        "id": "cyl8-F-kQ1J-"
      },
      "source": [
        "### categorize columns into low, medium, high"
      ]
    },
    {
      "cell_type": "code",
      "source": [
        "x.origin.plot.hist().set_title('Origin')"
      ],
      "metadata": {
        "colab": {
          "base_uri": "https://localhost:8080/",
          "height": 469
        },
        "id": "-N0Mr1heb4Kx",
        "outputId": "8d9c7cec-9adc-465f-a642-c6985eeda881"
      },
      "execution_count": null,
      "outputs": [
        {
          "output_type": "execute_result",
          "data": {
            "text/plain": [
              "Text(0.5, 1.0, 'Origin')"
            ]
          },
          "metadata": {},
          "execution_count": 275
        },
        {
          "output_type": "display_data",
          "data": {
            "text/plain": [
              "<Figure size 640x480 with 1 Axes>"
            ],
            "image/png": "[encoded data removed]"
          },
          "metadata": {}
        }
      ]
    },
    {
      "cell_type": "code",
      "execution_count": null,
      "metadata": {
        "id": "g29fdZf6FSDJ",
        "colab": {
          "base_uri": "https://localhost:8080/"
        },
        "outputId": "4a63a354-a813-4ced-9bed-31a1a4c0697c"
      },
      "outputs": [
        {
          "output_type": "stream",
          "name": "stdout",
          "text": [
            "Column: displacement\n",
            "{'low': '<= 104.25', 'medium': '104.25 - 262.00', 'high': '>= 262.00'}\n",
            "\n",
            "\n",
            "Column: horsepower\n",
            "{'low': '<= 76.00', 'medium': '76.00 - 125.00', 'high': '>= 125.00'}\n",
            "\n",
            "\n",
            "Column: weight\n",
            "{'low': '<= 2223.75', 'medium': '2223.75 - 3608.00', 'high': '>= 3608.00'}\n",
            "\n",
            "\n",
            "Column: acceleration\n",
            "{'low': '<= 13.83', 'medium': '13.83 - 17.18', 'high': '>= 17.18'}\n",
            "\n",
            "\n",
            "Column: origin\n",
            "{'low': '<= 1.00', 'medium': '1.00 - 2.00', 'high': '>= 2.00'}\n",
            "\n",
            "\n",
            "Column: mpg\n",
            "{'low': '<= 17.50', 'medium': '17.50 - 29.00', 'high': '>= 29.00'}\n",
            "\n",
            "\n"
          ]
        }
      ],
      "source": [
        "# Analyze the data and categorize columns into low, medium, high\n",
        "def categorize_column(df, column_name):\n",
        "\n",
        "  values = df[column_name]\n",
        "\n",
        "  # Calculate quartiles\n",
        "  q1 = values.quantile(0.25)\n",
        "  q2 = values.quantile(0.5)  # Median\n",
        "  q3 = values.quantile(0.75)\n",
        "\n",
        "  categories = {}\n",
        "  categories['low'] = f\"<= {q1:.2f}\"\n",
        "  categories['medium'] = f\"{q1:.2f} - {q3:.2f}\"\n",
        "  categories['high'] = f\">= {q3:.2f}\"\n",
        "\n",
        "  return categories\n",
        "\n",
        "# Apply the function to each feature column\n",
        "for col in x.columns:\n",
        "  print(f\"Column: {col}\")\n",
        "  categories = categorize_column(x, col)\n",
        "  print(categories)\n",
        "  print(\"\\n\")\n",
        "\n",
        "for col in y.column:\n",
        "  print(f\"Column: {col}\")\n",
        "  categories = categorize_column(pd.DataFrame(y), col)\n",
        "  print(categories)\n",
        "  print(\"\\n\")"
      ]
    },
    {
      "cell_type": "markdown",
      "metadata": {
        "id": "DXmXcBcCEYYz"
      },
      "source": [
        "Column: displacement\n",
        "{'low': '<= 104.25', 'medium': '104.25 - 262.00', 'high': '>= 262.00'}\n",
        "\n",
        "\n",
        "Column: horsepower\n",
        "{'low': '<= 76.00', 'medium': '76.00 - 125.00', 'high': '>= 125.00'}\n",
        "\n",
        "\n",
        "Column: weight\n",
        "{'low': '<= 2223.75', 'medium': '2223.75 - 3608.00', 'high': '>= 3608.00'}\n",
        "\n",
        "\n",
        "Column: acceleration\n",
        "{'low': '<= 13.83', 'medium': '13.83 - 17.18', 'high': '>= 17.18'}"
      ]
    },
    {
      "cell_type": "code",
      "execution_count": null,
      "metadata": {
        "id": "nBnLmo7VOvIH",
        "colab": {
          "base_uri": "https://localhost:8080/"
        },
        "outputId": "79ab0f3a-dbae-4f34-d2d1-b36293f96913"
      },
      "outputs": [
        {
          "output_type": "stream",
          "name": "stderr",
          "text": [
            "<ipython-input-277-d117bb41d824>:18: SettingWithCopyWarning: \n",
            "A value is trying to be set on a copy of a slice from a DataFrame.\n",
            "Try using .loc[row_indexer,col_indexer] = value instead\n",
            "\n",
            "See the caveats in the documentation: https://pandas.pydata.org/pandas-docs/stable/user_guide/indexing.html#returning-a-view-versus-a-copy\n",
            "  x_bayes['displacement'] = pd.cut(x=x['displacement'], bins=[0,100,262,x_bayes['displacement'].max()], labels=['small','medium','large']) # Create a new column for categorized displacement\n",
            "<ipython-input-277-d117bb41d824>:19: SettingWithCopyWarning: \n",
            "A value is trying to be set on a copy of a slice from a DataFrame.\n",
            "Try using .loc[row_indexer,col_indexer] = value instead\n",
            "\n",
            "See the caveats in the documentation: https://pandas.pydata.org/pandas-docs/stable/user_guide/indexing.html#returning-a-view-versus-a-copy\n",
            "  x_bayes['horsepower'] = pd.cut(x=x['horsepower'], bins=[0,76,125,x_bayes['horsepower'].max()], labels=['low','medium','high']) # Create a new column for categorized horsepower\n",
            "<ipython-input-277-d117bb41d824>:20: SettingWithCopyWarning: \n",
            "A value is trying to be set on a copy of a slice from a DataFrame.\n",
            "Try using .loc[row_indexer,col_indexer] = value instead\n",
            "\n",
            "See the caveats in the documentation: https://pandas.pydata.org/pandas-docs/stable/user_guide/indexing.html#returning-a-view-versus-a-copy\n",
            "  x_bayes['weight'] = pd.cut(x=x['weight'], bins=[0,2223,3608,x_bayes['weight'].max()], labels=['light','medium','heavy']) # Create a new column for categorized weight\n",
            "<ipython-input-277-d117bb41d824>:21: SettingWithCopyWarning: \n",
            "A value is trying to be set on a copy of a slice from a DataFrame.\n",
            "Try using .loc[row_indexer,col_indexer] = value instead\n",
            "\n",
            "See the caveats in the documentation: https://pandas.pydata.org/pandas-docs/stable/user_guide/indexing.html#returning-a-view-versus-a-copy\n",
            "  x_bayes['origin'] = pd.cut(x=x['origin'], bins=[0,1,2,x_bayes['origin'].max()], labels=['USA','RUSSIA','INDIA']) # Create a new column for categorized origin\n"
          ]
        }
      ],
      "source": [
        "# Fetching required features and making a copy of the dataset\n",
        "x_bayes = x[['displacement','horsepower', 'weight', 'origin']]\n",
        "y_bayes = y.copy()\n",
        "\n",
        "#Label category\n",
        "y_bayes = pd.cut(x=y_bayes, bins=[0,20,30,y_bayes.max()], labels=['low','medium','high'])\n",
        "\n",
        "#Feature category\n",
        "x_bayes['displacement'] = pd.cut(x=x['displacement'], bins=[0,100,262,x_bayes['displacement'].max()], labels=['small','medium','large']) # Create a new column for categorized displacement\n",
        "x_bayes['horsepower'] = pd.cut(x=x['horsepower'], bins=[0,76,125,x_bayes['horsepower'].max()], labels=['low','medium','high']) # Create a new column for categorized horsepower\n",
        "x_bayes['weight'] = pd.cut(x=x['weight'], bins=[0,2223,3608,x_bayes['weight'].max()], labels=['light','medium','heavy']) # Create a new column for categorized weight\n",
        "x_bayes['origin'] = pd.cut(x=x['origin'], bins=[0,1,2,x_bayes['origin'].max()], labels=['USA','RUSSIA','INDIA']) # Create a new column for categorized origin\n",
        "# x_bayes['acceleration'] = pd.cut(x=x['acceleration'], bins=[0,13,17,x_bayes['acceleration'].max()], labels=['slow','medium','fast']) # Create a new column for categorized acceleration\n",
        "\n",
        "# label 0 indicates low,label 1 indicates medium,label 2 indicates high accordingly in features\n",
        "# x_bayes['displacement'] = pd.cut(x=x['displacement'], bins=[0,100,262,x_bayes['displacement'].max()], labels=[0,1,2]) # Create a new column for categorized displacement\n",
        "# x_bayes['horsepower'] = pd.cut(x=x['horsepower'], bins=[0,76,125,x_bayes['horsepower'].max()], labels=[0,1,2]) # Create a new column for categorized horsepower\n",
        "# x_bayes['weight'] = pd.cut(x=x['weight'], bins=[0,2223,3608,x_bayes['weight'].max()], labels=[0,1,2]) # Create a new column for categorized weight\n",
        "# x_bayes['acceleration'] = pd.cut(x=x['acceleration'], bins=[0,13,17,x_bayes['acceleration'].max()], labels=[0,1,2]) # Create a new column for categorized acceleration"
      ]
    },
    {
      "cell_type": "code",
      "execution_count": null,
      "metadata": {
        "id": "OujlVVToA14f",
        "colab": {
          "base_uri": "https://localhost:8080/"
        },
        "outputId": "32f8bae7-3b30-43b3-c4a5-9029284972c8"
      },
      "outputs": [
        {
          "output_type": "stream",
          "name": "stdout",
          "text": [
            "(278, 4) (278,)\n",
            "(120, 4) (120,)\n"
          ]
        }
      ],
      "source": [
        "# splitting data set for training and testing\n",
        "# Split percent\n",
        "splitter=int(.7*len(x))\n",
        "\n",
        "x_train_bayes=x_bayes[:splitter]\n",
        "y_train_bayes=y_bayes[:splitter]\n",
        "x_test_bayes=x_bayes[splitter:]\n",
        "y_test_bayes=y_bayes[splitter:]\n",
        "\n",
        "print(x_train_bayes.shape,y_train_bayes.shape)\n",
        "print(x_test_bayes.shape,y_test_bayes.shape)"
      ]
    },
    {
      "cell_type": "code",
      "source": [
        "class NaiveBayesClassifier:\n",
        "    def __init__(self):\n",
        "        self.class_probs = {}\n",
        "        self.feature_probs = {}\n",
        "        self.feature_classes = {}\n",
        "\n",
        "    def calculate_prior(self,y,label='mpg'):\n",
        "        classes = y[label].unique()\n",
        "        prior = {}\n",
        "        for cls in classes:\n",
        "            prior[cls] = len(y[y[label]==cls]) / len(y)\n",
        "        return prior\n",
        "\n",
        "    def fit(self, X, y):\n",
        "        # Calculate prior probabilities for each class\n",
        "        self.classes = y.unique()\n",
        "        self.class_probs = self.calculate_prior(y.to_frame(), 'mpg')\n",
        "\n",
        "        # Initialize dictionaries to hold feature probabilities for each class\n",
        "        self.feature_probs = {cls: {col: {} for col in X.columns} for cls in self.classes}\n",
        "        self.feature_classes = {col: X[col].unique() for col in X.columns}\n",
        "\n",
        "        # Calculate probabilities for each feature given each class\n",
        "        for cls in self.classes:\n",
        "            X_cls = X[y == cls]  # Filter rows where y == cls\n",
        "            for col in X.columns:\n",
        "                col_values = self.feature_classes[col]\n",
        "                feature_counts = X_cls[col].value_counts()\n",
        "                total = len(X_cls)  # Total count of examples for this class\n",
        "\n",
        "                # Calculate conditional probabilities\n",
        "                self.feature_probs[cls][col] = {val: feature_counts.get(val, 0) / total for val in col_values}\n",
        "\n",
        "    def predict(self, X):\n",
        "        predictions = []\n",
        "        for _, row in X.iterrows():\n",
        "            probs = {}\n",
        "            for cls in self.classes:\n",
        "                prob = self.class_probs[cls]\n",
        "                for col in X.columns:\n",
        "                    prob *= self.feature_probs[cls][col].get(row[col], 0)\n",
        "                probs[cls] = prob\n",
        "\n",
        "            # Choose the class with the highest probability\n",
        "            predictions.append(max(probs, key=probs.get))\n",
        "\n",
        "        return np.array(predictions)\n",
        "\n",
        "    def accuracy(self,y_true,y_pred):\n",
        "        print(\"Accuracy: \",np.sum(y_true==y_pred)/len(y_true))\n",
        "        # return np.sum(y_true==y_pred)/len(y_true)\n"
      ],
      "metadata": {
        "id": "l43ct_lJUrI_"
      },
      "execution_count": null,
      "outputs": []
    },
    {
      "cell_type": "code",
      "source": [
        "\n",
        "NB =NaiveBayesClassifier()\n",
        "NB.fit(x_train_bayes,y_train_bayes)"
      ],
      "metadata": {
        "id": "zdwvoFo8OAZK"
      },
      "execution_count": null,
      "outputs": []
    },
    {
      "cell_type": "code",
      "source": [
        "x_pred = NB.predict(x_train_bayes)\n",
        "NB.accuracy(y_train_bayes,x_pred)"
      ],
      "metadata": {
        "colab": {
          "base_uri": "https://localhost:8080/"
        },
        "id": "f23XwDmvPZzh",
        "outputId": "fe1c6697-b55e-4c38-f5fc-ba15130b77e9"
      },
      "execution_count": null,
      "outputs": [
        {
          "output_type": "stream",
          "name": "stdout",
          "text": [
            "Accuracy:  0.7086330935251799\n"
          ]
        }
      ]
    },
    {
      "cell_type": "code",
      "source": [
        "y_pred = NB.predict(x_test_bayes)"
      ],
      "metadata": {
        "id": "R1OUUuX-OTqm"
      },
      "execution_count": null,
      "outputs": []
    },
    {
      "cell_type": "code",
      "source": [
        "NB.accuracy(y_test_bayes,y_pred)"
      ],
      "metadata": {
        "colab": {
          "base_uri": "https://localhost:8080/"
        },
        "id": "UPyufipPPLwq",
        "outputId": "cb745624-b4dc-4587-98cb-d6025407c164"
      },
      "execution_count": null,
      "outputs": [
        {
          "output_type": "stream",
          "name": "stdout",
          "text": [
            "Accuracy:  0.7333333333333333\n"
          ]
        }
      ]
    },
    {
      "cell_type": "markdown",
      "source": [],
      "metadata": {
        "id": "QrQ_W-KMQBfw"
      }
    },
    {
      "cell_type": "markdown",
      "source": [
        "## Hybrid Model - Combining Naive Bayes and Linear Regression"
      ],
      "metadata": {
        "id": "htY6v75wMX56"
      }
    },
    {
      "cell_type": "code",
      "source": [
        "class HybridModel:\n",
        "    def __init__(self):\n",
        "        self.nb_classifier = NaiveBayesClassifier()\n",
        "        self.lr_model = LinearRegression()\n",
        "        self.mapping = {'low': 10, 'medium': 25, 'high': 35}\n",
        "\n",
        "    def fit(self, x_train_bayes, y_train_bayes, x_train, y_train):\n",
        "        # Fit Naive Bayes\n",
        "        self.nb_classifier.fit(x_train_bayes, y_train_bayes)\n",
        "\n",
        "        # Predict using Naive Bayes\n",
        "        nb_predictions_train = self.nb_classifier.predict(x_train_bayes)\n",
        "        nb_predictions_train = pd.Series(nb_predictions_train)\n",
        "        nb_predictions_train = nb_predictions_train.map(self.mapping)\n",
        "\n",
        "        # Combine Naive Bayes predictions with original Linear Regression features\n",
        "        X_train_combined = pd.DataFrame(np.c_[x_train, nb_predictions_train])\n",
        "\n",
        "        # Fit Linear Regression\n",
        "        self.lr_model.least_square(X_train_combined, y_train)\n",
        "\n",
        "    def predict(self, x_test_bayes, x_test):\n",
        "        # Predict using Naive Bayes\n",
        "        nb_predictions_test = self.nb_classifier.predict(x_test_bayes)\n",
        "        nb_predictions_test = pd.Series(nb_predictions_test)\n",
        "        nb_predictions_test = nb_predictions_test.map(self.mapping)\n",
        "\n",
        "        # Combine Naive Bayes predictions with original Linear Regression features\n",
        "        X_test_combined = pd.DataFrame(np.c_[x_test, nb_predictions_test])\n",
        "\n",
        "        # Predict using Linear Regression\n",
        "        y_pred = self.lr_model.predict(X_test_combined, self.lr_model.coefficients)\n",
        "        return y_pred\n",
        "\n",
        "    def evaluate(self, y_true, y_pred):\n",
        "        # Calculate MSE\n",
        "        mse = self.lr_model.mean_squared_error(y_true, y_pred)\n",
        "        print(\"Mean Squared Error: \", mse)\n",
        "\n",
        "        # Calculate R-squared\n",
        "        r2 = self.lr_model.r2_score(y_true, y_pred)\n",
        "        print(\"R-squared: \", r2)\n",
        "\n",
        "\n"
      ],
      "metadata": {
        "colab": {
          "base_uri": "https://localhost:8080/"
        },
        "id": "R9YR0-75eOim",
        "outputId": "cc1c11c5-b03d-43f7-849a-371249400cb3"
      },
      "execution_count": null,
      "outputs": [
        {
          "output_type": "stream",
          "name": "stdout",
          "text": [
            "Mean Squared Error:  18.473099433522552\n",
            "R-squared:  0.6661948502526154\n"
          ]
        }
      ]
    },
    {
      "cell_type": "code",
      "source": [
        "# Create an instance of the HybridModel class\n",
        "hybrid_model = HybridModel()\n",
        "\n",
        "# Fit the model\n",
        "hybrid_model.fit(x_train_bayes, y_train_bayes, x_train, y_train)\n",
        "\n",
        "# Predict using the fitted model\n",
        "y_pred = hybrid_model.predict(x_test_bayes, x_test)\n",
        "\n",
        "# Evaluate the model\n",
        "hybrid_model.evaluate(y_test, y_pred)"
      ],
      "metadata": {
        "id": "mSKY43P6q3_M"
      },
      "execution_count": null,
      "outputs": []
    }
  ],
  "metadata": {
    "colab": {
      "provenance": [],
      "collapsed_sections": [
        "dQSy31GqXngU",
        "Z0z4cUscYhl8",
        "EKAbYeEkdUUf",
        "OUZxef-7jJjK",
        "nCQmpQKVi3wB",
        "htY6v75wMX56"
      ],
      "mount_file_id": "1LhOOM3OUm60wBhsqZRDzp2YAKgkAkJ6j",
      "authorship_tag": "ABX9TyM3NvlXelGKcK+rUdjybLZa",
      "include_colab_link": true
    },
    "kernelspec": {
      "display_name": "Python 3",
      "name": "python3"
    },
    "language_info": {
      "name": "python"
    }
  },
  "nbformat": 4,
  "nbformat_minor": 0
}